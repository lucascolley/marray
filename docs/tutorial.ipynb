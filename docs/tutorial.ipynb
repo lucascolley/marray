{
 "cells": [
  {
   "cell_type": "code",
   "execution_count": null,
   "id": "Hbol",
   "metadata": {},
   "outputs": [],
   "source": [
    "# this tutorial is built with marimo!\n",
    "import marimo as mo"
   ]
  },
  {
   "cell_type": "markdown",
   "id": "MJUe",
   "metadata": {
    "marimo": {
     "config": {
      "hide_code": true
     }
    }
   },
   "source": [
    "# Tutorial\n",
    "\n",
    "MArray is a package for extending your favorite [Python Array API Standard](https://data-apis.org/array-api/latest/index.html) compatible library with mask capabilities. Motivation for masked arrays can be found at [\"What is a masked array?\"](https://numpy.org/devdocs/reference/maskedarray.generic.html#what-is-a-masked-array).\n",
    "\n",
    "MArray is easy to install with `pip`, and it has no required dependencies.\n",
    "\n",
    "The rest of the tutorial will assume that we want to add masks to NumPy arrays. Note that this is different from using NumPy's built-in masked arrays from the `numpy.ma` namespace because `numpy.ma` is not compatible with the array API standard. Even the base NumPy namespace is not Array API compatible in versions of NumPy prior to 2.0, so we will install a recent version of NumPy to work with.\n",
    "\n",
    "To create a version of the NumPy namespace with mask support, use Python's `from...import...as` syntax."
   ]
  },
  {
   "cell_type": "code",
   "execution_count": null,
   "id": "vblA",
   "metadata": {},
   "outputs": [],
   "source": [
    "from marray import numpy as mxp"
   ]
  },
  {
   "cell_type": "markdown",
   "id": "bkHC",
   "metadata": {
    "marimo": {
     "config": {
      "hide_code": true
     }
    }
   },
   "source": [
    "`mxp` exposes all the features of NumPy that are specified in the Array API standard, but adds masks support to them. For example:"
   ]
  },
  {
   "cell_type": "code",
   "execution_count": null,
   "id": "lEQa",
   "metadata": {},
   "outputs": [],
   "source": [
    "simple_array = mxp.arange(3)\n",
    "simple_array"
   ]
  },
  {
   "cell_type": "markdown",
   "id": "PKri",
   "metadata": {
    "marimo": {
     "config": {
      "hide_code": true
     }
    }
   },
   "source": [
    "Just as `xp.arange(3)` would have created a regular NumPy array with elements [0, 1, 2], `mxp.arange(3)` creates an `MArray` object with these elements. These are accessible via the `data` attribute."
   ]
  },
  {
   "cell_type": "code",
   "execution_count": null,
   "id": "Xref",
   "metadata": {},
   "outputs": [],
   "source": [
    "simple_array.data"
   ]
  },
  {
   "cell_type": "markdown",
   "id": "SFPL",
   "metadata": {
    "marimo": {
     "config": {
      "hide_code": true
     }
    }
   },
   "source": [
    "The difference is that the `MArray` also has a mask, available via the `mask` attribute."
   ]
  },
  {
   "cell_type": "code",
   "execution_count": null,
   "id": "BYtC",
   "metadata": {},
   "outputs": [],
   "source": [
    "simple_array.mask"
   ]
  },
  {
   "cell_type": "markdown",
   "id": "RGSE",
   "metadata": {
    "marimo": {
     "config": {
      "hide_code": true
     }
    }
   },
   "source": [
    "Because all of the elements of the mask are `False`, this `MArray` will behave just like a regular NumPy array. That's boring. Let's create an array with a nontrivial mask. To do that, we'll use `mxp.asarray`."
   ]
  },
  {
   "cell_type": "code",
   "execution_count": null,
   "id": "Kclp",
   "metadata": {},
   "outputs": [],
   "source": [
    "x = mxp.asarray([1, 2, 3, 4], mask=[False, True, False, True])\n",
    "x"
   ]
  },
  {
   "cell_type": "markdown",
   "id": "emfo",
   "metadata": {
    "marimo": {
     "config": {
      "hide_code": true
     }
    }
   },
   "source": [
    "`marray` is intended to be a very light wrapper of the underlying array library. Just as it has only one public function (`get_namespace`), it makes only one modification to the signature of a wrapped library function, which we've used above: it adds a `mask` keyword-only argument to the `asarray` function.\n",
    "\n",
    "Let's see how the mask changes the behavior of common functions."
   ]
  },
  {
   "cell_type": "markdown",
   "id": "Hstk",
   "metadata": {
    "marimo": {
     "config": {
      "hide_code": true
     }
    }
   },
   "source": [
    "## Statistical Functions\n",
    "For reducing functions, masked elements are ignored; the result is the same as if the masked elements were not in the array."
   ]
  },
  {
   "cell_type": "code",
   "execution_count": null,
   "id": "nWHF",
   "metadata": {},
   "outputs": [],
   "source": [
    "mxp.max(x)  # 4 was masked"
   ]
  },
  {
   "cell_type": "code",
   "execution_count": null,
   "id": "iLit",
   "metadata": {},
   "outputs": [],
   "source": [
    "mxp.sum(x)  # 2 and 4 were masked"
   ]
  },
  {
   "cell_type": "markdown",
   "id": "ZHCJ",
   "metadata": {
    "marimo": {
     "config": {
      "hide_code": true
     }
    }
   },
   "source": [
    "For the only non-reducing statistical function, `cumulative_sum`, masked elements do not contribute to the cumulative sum."
   ]
  },
  {
   "cell_type": "code",
   "execution_count": null,
   "id": "ROlb",
   "metadata": {},
   "outputs": [],
   "source": [
    "mxp.cumulative_sum(x)"
   ]
  },
  {
   "cell_type": "markdown",
   "id": "qnkX",
   "metadata": {
    "marimo": {
     "config": {
      "hide_code": true
     }
    }
   },
   "source": [
    "Note that the elements at indices where the original array were masked remain masked. Because of the limitations of the underlying array library, there will always be values corresponding with masked elements in `data`, *but these values should be considered meaningless*."
   ]
  },
  {
   "cell_type": "markdown",
   "id": "TqIu",
   "metadata": {
    "marimo": {
     "config": {
      "hide_code": true
     }
    }
   },
   "source": [
    "## Utility functions\n",
    "`all` and `any` work like the reducing statistics functions."
   ]
  },
  {
   "cell_type": "code",
   "execution_count": null,
   "id": "Vxnm",
   "metadata": {},
   "outputs": [],
   "source": [
    "y = mxp.asarray([False, False, False, True], mask=[False, True, False, True])\n",
    "mxp.all(y)"
   ]
  },
  {
   "cell_type": "code",
   "execution_count": null,
   "id": "DnEU",
   "metadata": {},
   "outputs": [],
   "source": [
    "mxp.any(y)"
   ]
  },
  {
   "cell_type": "markdown",
   "id": "ulZA",
   "metadata": {
    "marimo": {
     "config": {
      "hide_code": true
     }
    }
   },
   "source": [
    "Is that last result surprising? Although there is one `True` in `x.data`, it is ignored when computing `any` because it is masked.\n",
    "\n",
    "You may have noticed that the mask of the result has always been `False` in these examples of reducing functions. This is always the case unless *all* elements of the array are masked. In this case, it is required by the reducing nature of the function to return a 0D array for a 1D input, but there is not an universally accepted result for these functions when all elements are masked. (What is the maximum of an empty set?)"
   ]
  },
  {
   "cell_type": "code",
   "execution_count": null,
   "id": "ecfG",
   "metadata": {},
   "outputs": [],
   "source": [
    "y_all_masked = mxp.asarray(y.data, mask=True)\n",
    "mxp.any(y_all_masked).mask"
   ]
  },
  {
   "cell_type": "markdown",
   "id": "Pvdt",
   "metadata": {
    "marimo": {
     "config": {
      "hide_code": true
     }
    }
   },
   "source": [
    "## Sorting functions\n",
    "The sorting functions treat masked values as undefined and, by convention, append them to the end of the returned array."
   ]
  },
  {
   "cell_type": "code",
   "execution_count": null,
   "id": "ZBYS",
   "metadata": {},
   "outputs": [],
   "source": [
    "z_data = [8, 3, 4, 1, 9, 9, 5, 5]\n",
    "z_mask = [0, 0, 1, 0, 1, 1, 0, 0]\n",
    "z = mxp.asarray(z_data, mask=z_mask)\n",
    "mxp.sort(z)"
   ]
  },
  {
   "cell_type": "markdown",
   "id": "aLJB",
   "metadata": {
    "marimo": {
     "config": {
      "hide_code": true
     }
    }
   },
   "source": [
    "Where did those huge numbers come from? We emphasize again: *the `data` corresponding with masked elements should be considered meaningless*; they are just placeholders that allow us respect the mask while doing array operations efficiently."
   ]
  },
  {
   "cell_type": "code",
   "execution_count": null,
   "id": "nHfw",
   "metadata": {},
   "outputs": [],
   "source": [
    "i = mxp.argsort(z)\n",
    "i"
   ]
  },
  {
   "cell_type": "markdown",
   "id": "xXTn",
   "metadata": {
    "marimo": {
     "config": {
      "hide_code": true
     }
    }
   },
   "source": [
    "Is it surprising that the mask of the array returned by `argsort` is all False? These are the indices that allow us to transform the original array into the sorted result. We can confirm that without a mask, these indices sort the array and keep the right elements masked."
   ]
  },
  {
   "cell_type": "code",
   "execution_count": null,
   "id": "AjVT",
   "metadata": {},
   "outputs": [],
   "source": [
    "a = z[i.data]\n",
    "a"
   ]
  },
  {
   "cell_type": "markdown",
   "id": "pHFh",
   "metadata": {
    "marimo": {
     "config": {
      "hide_code": true
     }
    }
   },
   "source": [
    "*Gotcha:* Sorting is not supported when the the non-masked data includes the maximum (minimum when `descending=True`) value of the data's `dtype`."
   ]
  },
  {
   "cell_type": "code",
   "execution_count": null,
   "id": "NCOB",
   "metadata": {},
   "outputs": [],
   "source": [
    "b = mxp.asarray(z, mask=z_mask, dtype=mxp.uint8)\n",
    "b[0] = 2**8 - 1\n",
    "# mxp.sort(b)\n",
    "# NotImplementedError: The maximum value of the data's dtype is included in the non-masked data; this complicates sorting when masked values are present.\n",
    "# Consider promoting to another dtype to use `sort`."
   ]
  },
  {
   "cell_type": "markdown",
   "id": "aqbW",
   "metadata": {
    "marimo": {
     "config": {
      "hide_code": true
     }
    }
   },
   "source": [
    "It is often possible to sidestep this limitation by using a different `dtype` for the sorting, then converting back to the original type."
   ]
  },
  {
   "cell_type": "code",
   "execution_count": null,
   "id": "TRpd",
   "metadata": {},
   "outputs": [],
   "source": [
    "c = mxp.astype(b, mxp.uint16)\n",
    "c_sorted = mxp.astype(mxp.sort(c), mxp.uint8)\n",
    "c_sorted"
   ]
  },
  {
   "cell_type": "markdown",
   "id": "TXez",
   "metadata": {
    "marimo": {
     "config": {
      "hide_code": true
     }
    }
   },
   "source": [
    "## Set functions\n",
    "Masked elements are treated as distinct from all non-masked elements but equivalent to all other masked elements."
   ]
  },
  {
   "cell_type": "code",
   "execution_count": null,
   "id": "dNNg",
   "metadata": {},
   "outputs": [],
   "source": [
    "z_unique = mxp.unique_counts(z)\n",
    "z_unique.values"
   ]
  },
  {
   "cell_type": "code",
   "execution_count": null,
   "id": "yCnT",
   "metadata": {},
   "outputs": [],
   "source": [
    "z_unique.counts"
   ]
  },
  {
   "cell_type": "markdown",
   "id": "wlCL",
   "metadata": {
    "marimo": {
     "config": {
      "hide_code": true
     }
    }
   },
   "source": [
    "*Gotcha*: set functions have the same limitation as the sorting functions: the non-masked data may not include the maximum value of the data's `dtype`."
   ]
  },
  {
   "cell_type": "markdown",
   "id": "kqZH",
   "metadata": {
    "marimo": {
     "config": {
      "hide_code": true
     }
    }
   },
   "source": [
    "## Manipulation functions\n",
    "Manipulation functions perform the same operation on the data and the mask."
   ]
  },
  {
   "cell_type": "code",
   "execution_count": null,
   "id": "wAgl",
   "metadata": {},
   "outputs": [],
   "source": [
    "mxp.flip(a)"
   ]
  },
  {
   "cell_type": "code",
   "execution_count": null,
   "id": "rEll",
   "metadata": {},
   "outputs": [],
   "source": [
    "mxp.stack([a, a])"
   ]
  },
  {
   "cell_type": "markdown",
   "id": "dGlV",
   "metadata": {
    "marimo": {
     "config": {
      "hide_code": true
     }
    }
   },
   "source": [
    "## Creation functions\n",
    "Most creation functions create arrays with an all-False mask."
   ]
  },
  {
   "cell_type": "code",
   "execution_count": null,
   "id": "SdmI",
   "metadata": {},
   "outputs": [],
   "source": [
    "mxp.eye(3)"
   ]
  },
  {
   "cell_type": "markdown",
   "id": "lgWD",
   "metadata": {
    "marimo": {
     "config": {
      "hide_code": true
     }
    }
   },
   "source": [
    "Exceptions include the `_like` functions, which preserve the mask of the array argument."
   ]
  },
  {
   "cell_type": "code",
   "execution_count": null,
   "id": "yOPj",
   "metadata": {},
   "outputs": [],
   "source": [
    "mxp.zeros_like(a)"
   ]
  },
  {
   "cell_type": "markdown",
   "id": "fwwy",
   "metadata": {
    "marimo": {
     "config": {
      "hide_code": true
     }
    }
   },
   "source": [
    "`tril` and `triu` also preserve the mask of the indicated triangular portion of the argument."
   ]
  },
  {
   "cell_type": "code",
   "execution_count": null,
   "id": "LJZf",
   "metadata": {},
   "outputs": [],
   "source": [
    "import numpy as xp\n",
    "\n",
    "A_data = xp.ones((3, 3))\n",
    "A_mask = xp.zeros_like(A_data)\n",
    "A_mask[0, -1] = 1\n",
    "A_mask[-1, 0] = 1\n",
    "A = mxp.asarray(A_data, mask=A_mask)\n",
    "A"
   ]
  },
  {
   "cell_type": "code",
   "execution_count": null,
   "id": "urSm",
   "metadata": {},
   "outputs": [],
   "source": [
    "mxp.tril(A)"
   ]
  },
  {
   "cell_type": "markdown",
   "id": "jxvo",
   "metadata": {
    "marimo": {
     "config": {
      "hide_code": true
     }
    }
   },
   "source": [
    "## Searching functions\n",
    "Similarly to the statistics functions, masked elements are treated as if they did not exist."
   ]
  },
  {
   "cell_type": "code",
   "execution_count": null,
   "id": "mWxS",
   "metadata": {},
   "outputs": [],
   "source": [
    "z_with_zeros = z\n",
    "z_with_zeros[[1, -1]] = 0  # add some zeros\n",
    "z_with_zeros  # let's remember what `z` looks like"
   ]
  },
  {
   "cell_type": "code",
   "execution_count": null,
   "id": "CcZR",
   "metadata": {},
   "outputs": [],
   "source": [
    "mxp.argmax(z_with_zeros)  # 9 is masked, so 8 (at index 0) is the largest element"
   ]
  },
  {
   "cell_type": "code",
   "execution_count": null,
   "id": "YWSi",
   "metadata": {},
   "outputs": [],
   "source": [
    "z_i = mxp.nonzero(z_with_zeros)  # Only elements at these indices are nonzero *and* not masked\n",
    "z_i"
   ]
  },
  {
   "cell_type": "markdown",
   "id": "zlud",
   "metadata": {
    "marimo": {
     "config": {
      "hide_code": true
     }
    }
   },
   "source": [
    "The correct behavior of indexing with a masked array is ambiguous, so use only regular, unmasked arrays for indexing."
   ]
  },
  {
   "cell_type": "code",
   "execution_count": null,
   "id": "tZnO",
   "metadata": {},
   "outputs": [],
   "source": [
    "indices = z_i[0].data\n",
    "z_with_zeros[indices]"
   ]
  },
  {
   "cell_type": "markdown",
   "id": "xvXZ",
   "metadata": {
    "marimo": {
     "config": {
      "hide_code": true
     }
    }
   },
   "source": [
    "## Elementwise functions\n",
    "Elementwise functions (and operators) simply perform the requested operation on the `data`.\n",
    "\n",
    "For unary functions, the mask of the result is the mask of the argument."
   ]
  },
  {
   "cell_type": "code",
   "execution_count": null,
   "id": "CLip",
   "metadata": {},
   "outputs": [],
   "source": [
    "d = xp.linspace(0, 2*xp.pi, 5)\n",
    "d = mxp.asarray(d, mask=(d > xp.pi))\n",
    "d"
   ]
  },
  {
   "cell_type": "code",
   "execution_count": null,
   "id": "YECM",
   "metadata": {},
   "outputs": [],
   "source": [
    "-d"
   ]
  },
  {
   "cell_type": "code",
   "execution_count": null,
   "id": "cEAS",
   "metadata": {},
   "outputs": [],
   "source": [
    "mxp.round(mxp.sin(d))"
   ]
  },
  {
   "cell_type": "markdown",
   "id": "iXej",
   "metadata": {
    "marimo": {
     "config": {
      "hide_code": true
     }
    }
   },
   "source": [
    "For binary functions and operators, the mask of the result is the result of the logical *or* operation on the masks of the arguments."
   ]
  },
  {
   "cell_type": "code",
   "execution_count": null,
   "id": "EJmg",
   "metadata": {},
   "outputs": [],
   "source": [
    "e = mxp.asarray([1, 2, 3, 4], mask=[1, 0, 1, 0])\n",
    "f = mxp.asarray([5, 6, 7, 8], mask=[1, 1, 0, 0])\n",
    "e + f"
   ]
  },
  {
   "cell_type": "code",
   "execution_count": null,
   "id": "UmEG",
   "metadata": {},
   "outputs": [],
   "source": [
    "mxp.pow(f, e)"
   ]
  },
  {
   "cell_type": "markdown",
   "id": "vEBW",
   "metadata": {
    "marimo": {
     "config": {
      "hide_code": true
     }
    }
   },
   "source": [
    "Note that `np.ma` automatically masks non-finite elements produced during calculations."
   ]
  },
  {
   "cell_type": "code",
   "execution_count": null,
   "id": "kLmu",
   "metadata": {},
   "outputs": [],
   "source": [
    "import numpy\n",
    "\n",
    "g = numpy.ma.masked_array(0, mask=False)\n",
    "with numpy.errstate(divide='ignore', invalid='ignore'):\n",
    "    h = [1, 0] / g\n",
    "h"
   ]
  },
  {
   "cell_type": "markdown",
   "id": "IpqN",
   "metadata": {
    "marimo": {
     "config": {
      "hide_code": true
     }
    }
   },
   "source": [
    "`MArray` *does not* follow this convention."
   ]
  },
  {
   "cell_type": "code",
   "execution_count": null,
   "id": "dxZZ",
   "metadata": {},
   "outputs": [],
   "source": [
    "j = mxp.asarray(0, mask=False)\n",
    "with numpy.errstate(divide='ignore', invalid='ignore'):\n",
    "    k = [1, 0] / j\n",
    "k"
   ]
  },
  {
   "cell_type": "markdown",
   "id": "dlnW",
   "metadata": {
    "marimo": {
     "config": {
      "hide_code": true
     }
    }
   },
   "source": [
    "This is because masked elements are often used to represent *missing* data, and the results of these operations are not missing. If this does not suit your needs, mask out data according to your requirements after performing the operation."
   ]
  },
  {
   "cell_type": "code",
   "execution_count": null,
   "id": "TTti",
   "metadata": {},
   "outputs": [],
   "source": [
    "m = mxp.asarray(0, mask=False)\n",
    "with numpy.errstate(divide='ignore', invalid='ignore'):\n",
    "    n = [1, 0] / m\n",
    "mxp.asarray(n.data, mask=xp.isnan(n.data))"
   ]
  },
  {
   "cell_type": "markdown",
   "id": "RKFZ",
   "metadata": {
    "marimo": {
     "config": {
      "hide_code": true
     }
    }
   },
   "source": [
    "## Linear Algebra Functions\n",
    "As usual, linear algebra functions and operators treat masked elements as though they don't exist."
   ]
  },
  {
   "cell_type": "code",
   "execution_count": null,
   "id": "IaQp",
   "metadata": {},
   "outputs": [],
   "source": [
    "o = mxp.asarray([1, 2, 3, 4], mask=[1, 0, 1, 0])\n",
    "p = mxp.asarray([5, 6, 7, 8], mask=[1, 1, 0, 0])\n",
    "o @ p"
   ]
  },
  {
   "cell_type": "markdown",
   "id": "IWgg",
   "metadata": {
    "marimo": {
     "config": {
      "hide_code": true
     }
    }
   },
   "source": [
    "The exception is `matrix_transpose`, which transposes the data and the mask."
   ]
  },
  {
   "cell_type": "code",
   "execution_count": null,
   "id": "fCoF",
   "metadata": {},
   "outputs": [],
   "source": [
    "q = mxp.asarray([[1, 2], [3, 4]], mask=[[1, 1], [0, 0]])\n",
    "q"
   ]
  },
  {
   "cell_type": "code",
   "execution_count": null,
   "id": "LkGn",
   "metadata": {},
   "outputs": [],
   "source": [
    "mxp.matrix_transpose(q)"
   ]
  },
  {
   "cell_type": "markdown",
   "id": "zVRe",
   "metadata": {
    "marimo": {
     "config": {
      "hide_code": true
     }
    }
   },
   "source": [
    "## Conclusion\n",
    "While this tutorial is not exhaustive, we hope it is sufficient to allow you to predict the results of operations with `MArray`s and use them to suit your needs. If you'd like to see this tutorial extended in a particular way, please [open an issue](https://github.com/mdhaber/marray/issues)!"
   ]
  }
 ],
 "metadata": {},
 "nbformat": 4,
 "nbformat_minor": 5
}
